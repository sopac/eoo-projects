{
 "cells": [
  {
   "cell_type": "code",
   "execution_count": null,
   "id": "9ef55974-1b6e-4cf4-a6fa-951987b9b8a4",
   "metadata": {},
   "outputs": [],
   "source": [
    "import pandas as pd\n",
    "import plotly.express as px\n",
    "import plotly.graph_objects as go\n",
    "import sys"
   ]
  },
  {
   "cell_type": "code",
   "execution_count": null,
   "id": "0214e981-7a4b-4de1-852f-535952196839",
   "metadata": {},
   "outputs": [],
   "source": [
    "sys.version"
   ]
  },
  {
   "cell_type": "code",
   "execution_count": null,
   "id": "67674508-0765-4d81-868b-9a815c184c76",
   "metadata": {},
   "outputs": [],
   "source": [
    "projects = pd.read_excel(\"projects.xlsx\")\n",
    "projects"
   ]
  },
  {
   "cell_type": "code",
   "execution_count": null,
   "id": "9ae598fd-7fbf-4793-b380-c5034f080063",
   "metadata": {},
   "outputs": [],
   "source": [
    "df = projects\n",
    "df.loc[:, \"Budget\"] ='$'+ df[\"Budget\"].map('{:,.0f}'.format)\n",
    "#df.loc[:, \"EndDate\"] = pd.to_datetime(df[\"EndDate\"].dt.strftime('%Y-%m'))\n",
    "df['EndDate'] = df['EndDate'].dt.strftime('%d-%m-%Y')\n",
    "\n",
    "fig = go.Figure(data=[go.Table(\n",
    "    header=dict(values=['Name', 'Title', 'End Date', 'PMU', 'Donor', 'Budget', 'Budget Currency', 'Countries'],\n",
    "                fill_color='paleturquoise',\n",
    "                align='left'),\n",
    "    cells=dict(values=[df.Name, df.Title, df.EndDate, df.PMU, df.Donor, df.Budget, df.BudgetCurrency, df. Countries],\n",
    "               fill_color='lavender',\n",
    "               align='left'))\n",
    "])\n",
    "fig.write_html(\"projects.html\")\n",
    "fig.show()"
   ]
  },
  {
   "cell_type": "code",
   "execution_count": null,
   "id": "130d73bd-6e21-450e-9206-a6e3f834ffb1",
   "metadata": {},
   "outputs": [],
   "source": [
    "df = pd.read_excel(\"workplan.xlsx\")"
   ]
  },
  {
   "cell_type": "code",
   "execution_count": null,
   "id": "0d98c368-a17f-4361-837a-692f0c5de385",
   "metadata": {},
   "outputs": [],
   "source": [
    "fig = px.timeline(df, x_start=\"Start\", x_end=\"Finish\", y=\"Task\", color=\"Project\")\n",
    "fig.update_yaxes(autorange=\"reversed\")\n",
    "fig.show()"
   ]
  },
  {
   "cell_type": "code",
   "execution_count": null,
   "id": "2b225a09-b06c-4d50-9450-41211d7df5ee",
   "metadata": {},
   "outputs": [],
   "source": [
    "fig.write_html(\"workplan.html\")"
   ]
  },
  {
   "cell_type": "code",
   "execution_count": null,
   "id": "368b8fd6-b6dd-444a-baad-0ab96160bda1",
   "metadata": {},
   "outputs": [],
   "source": [
    "#print(projects.to_html())"
   ]
  },
  {
   "cell_type": "code",
   "execution_count": null,
   "id": "b4d7c101-2630-424e-8f96-cfa8de1a06fa",
   "metadata": {},
   "outputs": [],
   "source": []
  }
 ],
 "metadata": {
  "kernelspec": {
   "display_name": "Python 3 (ipykernel)",
   "language": "python",
   "name": "python3"
  },
  "language_info": {
   "codemirror_mode": {
    "name": "ipython",
    "version": 3
   },
   "file_extension": ".py",
   "mimetype": "text/x-python",
   "name": "python",
   "nbconvert_exporter": "python",
   "pygments_lexer": "ipython3",
   "version": "3.12.2"
  }
 },
 "nbformat": 4,
 "nbformat_minor": 5
}
