{
 "cells": [
  {
   "cell_type": "code",
   "execution_count": 169,
   "id": "9ef55974-1b6e-4cf4-a6fa-951987b9b8a4",
   "metadata": {},
   "outputs": [],
   "source": [
    "import pandas as pd\n",
    "import plotly.express as px\n",
    "import plotly.graph_objects as go\n",
    "import sys"
   ]
  },
  {
   "cell_type": "code",
   "execution_count": 170,
   "id": "0214e981-7a4b-4de1-852f-535952196839",
   "metadata": {},
   "outputs": [
    {
     "data": {
      "text/plain": [
       "'3.12.0 (main, Oct 14 2023, 23:55:17) [GCC 13.2.1 20230801]'"
      ]
     },
     "execution_count": 170,
     "metadata": {},
     "output_type": "execute_result"
    }
   ],
   "source": [
    "sys.version"
   ]
  },
  {
   "cell_type": "code",
   "execution_count": 171,
   "id": "67674508-0765-4d81-868b-9a815c184c76",
   "metadata": {},
   "outputs": [
    {
     "data": {
      "text/html": [
       "<div>\n",
       "<style scoped>\n",
       "    .dataframe tbody tr th:only-of-type {\n",
       "        vertical-align: middle;\n",
       "    }\n",
       "\n",
       "    .dataframe tbody tr th {\n",
       "        vertical-align: top;\n",
       "    }\n",
       "\n",
       "    .dataframe thead th {\n",
       "        text-align: right;\n",
       "    }\n",
       "</style>\n",
       "<table border=\"1\" class=\"dataframe\">\n",
       "  <thead>\n",
       "    <tr style=\"text-align: right;\">\n",
       "      <th></th>\n",
       "      <th>Name</th>\n",
       "      <th>Title</th>\n",
       "      <th>EndDate</th>\n",
       "      <th>Budget</th>\n",
       "      <th>BudgetCurrency</th>\n",
       "      <th>BudgetCode</th>\n",
       "      <th>PMU</th>\n",
       "      <th>Donor</th>\n",
       "      <th>Countries</th>\n",
       "    </tr>\n",
       "  </thead>\n",
       "  <tbody>\n",
       "    <tr>\n",
       "      <th>0</th>\n",
       "      <td>DEP</td>\n",
       "      <td>Digital Earth Pacific – Climate Change Flagship</td>\n",
       "      <td>2025-06-03</td>\n",
       "      <td>2000000</td>\n",
       "      <td>NZD</td>\n",
       "      <td>J00422</td>\n",
       "      <td>CCES</td>\n",
       "      <td>NZ/MFAT</td>\n",
       "      <td>PICT</td>\n",
       "    </tr>\n",
       "    <tr>\n",
       "      <th>1</th>\n",
       "      <td>SDB</td>\n",
       "      <td>Satellite Derived Bathymetry</td>\n",
       "      <td>2024-12-31</td>\n",
       "      <td>355000</td>\n",
       "      <td>USD</td>\n",
       "      <td>NaN</td>\n",
       "      <td>GEP</td>\n",
       "      <td>McGovern Foundation</td>\n",
       "      <td>PICT</td>\n",
       "    </tr>\n",
       "    <tr>\n",
       "      <th>2</th>\n",
       "      <td>CMSP</td>\n",
       "      <td>Development of Decision Ready Tools to Support...</td>\n",
       "      <td>2024-12-07</td>\n",
       "      <td>700000</td>\n",
       "      <td>USD</td>\n",
       "      <td>J00363</td>\n",
       "      <td>GEP</td>\n",
       "      <td>PIFS/KIOST</td>\n",
       "      <td>PICT</td>\n",
       "    </tr>\n",
       "    <tr>\n",
       "      <th>3</th>\n",
       "      <td>MACBLUE</td>\n",
       "      <td>Management and Conservation of Blue Carbon Eco...</td>\n",
       "      <td>2025-06-30</td>\n",
       "      <td>700000</td>\n",
       "      <td>USD</td>\n",
       "      <td>J00454</td>\n",
       "      <td>GEP</td>\n",
       "      <td>GIZ</td>\n",
       "      <td>FJ, PNG, VU, SB</td>\n",
       "    </tr>\n",
       "    <tr>\n",
       "      <th>4</th>\n",
       "      <td>ENVEXP</td>\n",
       "      <td>Environmental Exposure Assessment for Water-Re...</td>\n",
       "      <td>2024-12-31</td>\n",
       "      <td>436370</td>\n",
       "      <td>NZD</td>\n",
       "      <td>J00370</td>\n",
       "      <td>PDH</td>\n",
       "      <td>NZ/MFAT</td>\n",
       "      <td>KI, PICT</td>\n",
       "    </tr>\n",
       "    <tr>\n",
       "      <th>5</th>\n",
       "      <td>PCRAFI</td>\n",
       "      <td>Pacific Risk Information System</td>\n",
       "      <td>2024-06-30</td>\n",
       "      <td>0</td>\n",
       "      <td>USD</td>\n",
       "      <td>J00139</td>\n",
       "      <td>DCRP</td>\n",
       "      <td>World Bank</td>\n",
       "      <td>TO, VU, SB, WS, CK</td>\n",
       "    </tr>\n",
       "    <tr>\n",
       "      <th>6</th>\n",
       "      <td>INV</td>\n",
       "      <td>LRD Funding with Intent – Forest Management Mo...</td>\n",
       "      <td>2024-12-31</td>\n",
       "      <td>109000</td>\n",
       "      <td>NZD</td>\n",
       "      <td>NaN</td>\n",
       "      <td>LRD</td>\n",
       "      <td>NZ/MFAT</td>\n",
       "      <td>FJ, TO</td>\n",
       "    </tr>\n",
       "    <tr>\n",
       "      <th>7</th>\n",
       "      <td>PARTNER2</td>\n",
       "      <td>Hazard Risk Analysis</td>\n",
       "      <td>2024-06-30</td>\n",
       "      <td>2822202</td>\n",
       "      <td>NZD</td>\n",
       "      <td>J00319</td>\n",
       "      <td>DCRP</td>\n",
       "      <td>NZ/MFAT</td>\n",
       "      <td>TO, VU, SB, WS, CK, MH</td>\n",
       "    </tr>\n",
       "    <tr>\n",
       "      <th>8</th>\n",
       "      <td>IRIS</td>\n",
       "      <td>Infrastructure Resilience Geospatial Databases...</td>\n",
       "      <td>2025-09-28</td>\n",
       "      <td>750000</td>\n",
       "      <td>USD</td>\n",
       "      <td>NaN</td>\n",
       "      <td>DCRP</td>\n",
       "      <td>CDRI/RAF</td>\n",
       "      <td>KI, TO, VU</td>\n",
       "    </tr>\n",
       "  </tbody>\n",
       "</table>\n",
       "</div>"
      ],
      "text/plain": [
       "       Name                                              Title    EndDate  \\\n",
       "0       DEP    Digital Earth Pacific – Climate Change Flagship 2025-06-03   \n",
       "1       SDB                       Satellite Derived Bathymetry 2024-12-31   \n",
       "2      CMSP  Development of Decision Ready Tools to Support... 2024-12-07   \n",
       "3   MACBLUE  Management and Conservation of Blue Carbon Eco... 2025-06-30   \n",
       "4    ENVEXP  Environmental Exposure Assessment for Water-Re... 2024-12-31   \n",
       "5    PCRAFI                    Pacific Risk Information System 2024-06-30   \n",
       "6       INV  LRD Funding with Intent – Forest Management Mo... 2024-12-31   \n",
       "7  PARTNER2                               Hazard Risk Analysis 2024-06-30   \n",
       "8      IRIS  Infrastructure Resilience Geospatial Databases... 2025-09-28   \n",
       "\n",
       "    Budget BudgetCurrency BudgetCode   PMU                Donor  \\\n",
       "0  2000000            NZD     J00422  CCES              NZ/MFAT   \n",
       "1   355000            USD        NaN   GEP  McGovern Foundation   \n",
       "2   700000            USD     J00363   GEP           PIFS/KIOST   \n",
       "3   700000            USD     J00454   GEP                  GIZ   \n",
       "4   436370            NZD     J00370   PDH              NZ/MFAT   \n",
       "5        0            USD     J00139  DCRP           World Bank   \n",
       "6   109000            NZD        NaN   LRD              NZ/MFAT   \n",
       "7  2822202            NZD     J00319  DCRP              NZ/MFAT   \n",
       "8   750000            USD        NaN  DCRP             CDRI/RAF   \n",
       "\n",
       "                Countries  \n",
       "0                    PICT  \n",
       "1                    PICT  \n",
       "2                    PICT  \n",
       "3         FJ, PNG, VU, SB  \n",
       "4                KI, PICT  \n",
       "5      TO, VU, SB, WS, CK  \n",
       "6                  FJ, TO  \n",
       "7  TO, VU, SB, WS, CK, MH  \n",
       "8              KI, TO, VU  "
      ]
     },
     "execution_count": 171,
     "metadata": {},
     "output_type": "execute_result"
    }
   ],
   "source": [
    "projects = pd.read_excel(\"projects.xlsx\")\n",
    "projects"
   ]
  },
  {
   "cell_type": "code",
   "execution_count": 172,
   "id": "9ae598fd-7fbf-4793-b380-c5034f080063",
   "metadata": {},
   "outputs": [
    {
     "data": {
      "application/vnd.plotly.v1+json": {
       "config": {
        "plotlyServerURL": "https://plot.ly"
       },
       "data": [
        {
         "cells": {
          "align": "left",
          "fill": {
           "color": "lavender"
          },
          "values": [
           [
            "DEP",
            "SDB",
            "CMSP",
            "MACBLUE",
            "ENVEXP",
            "PCRAFI",
            "INV",
            "PARTNER2",
            "IRIS"
           ],
           [
            "Digital Earth Pacific – Climate Change Flagship",
            "Satellite Derived Bathymetry",
            "Development of Decision Ready Tools to Support Coastal and Marine Spatial Planning",
            "Management and Conservation of Blue Carbon Ecosytems in Pacific Island Countries",
            "Environmental Exposure Assessment for Water-Related Emergencies",
            "Pacific Risk Information System",
            "LRD Funding with Intent – Forest Management Model and Invasive Species Detection",
            "Hazard Risk Analysis",
            "Infrastructure Resilience Geospatial Databases to support Exposure and Hazard modelling"
           ],
           [
            "03-06-2025",
            "31-12-2024",
            "07-12-2024",
            "30-06-2025",
            "31-12-2024",
            "30-06-2024",
            "31-12-2024",
            "30-06-2024",
            "28-09-2025"
           ],
           [
            "CCES",
            "GEP",
            "GEP",
            "GEP",
            "PDH",
            "DCRP",
            "LRD",
            "DCRP",
            "DCRP"
           ],
           [
            "NZ/MFAT",
            "McGovern Foundation",
            "PIFS/KIOST",
            "GIZ",
            "NZ/MFAT",
            "World Bank",
            "NZ/MFAT",
            "NZ/MFAT",
            "CDRI/RAF"
           ],
           [
            "$2,000,000",
            "$355,000",
            "$700,000",
            "$700,000",
            "$436,370",
            "$0",
            "$109,000",
            "$2,822,202",
            "$750,000"
           ],
           [
            "NZD",
            "USD",
            "USD",
            "USD",
            "NZD",
            "USD",
            "NZD",
            "NZD",
            "USD"
           ],
           [
            "PICT",
            "PICT",
            "PICT",
            "FJ, PNG, VU, SB",
            "KI, PICT",
            "TO, VU, SB, WS, CK",
            "FJ, TO",
            "TO, VU, SB, WS, CK, MH",
            "KI, TO, VU"
           ]
          ]
         },
         "header": {
          "align": "left",
          "fill": {
           "color": "paleturquoise"
          },
          "values": [
           "Name",
           "Title",
           "End Date",
           "PMU",
           "Donor",
           "Budget",
           "Budget Currency",
           "Countries"
          ]
         },
         "type": "table"
        }
       ],
       "layout": {
        "template": {
         "data": {
          "bar": [
           {
            "error_x": {
             "color": "#2a3f5f"
            },
            "error_y": {
             "color": "#2a3f5f"
            },
            "marker": {
             "line": {
              "color": "#E5ECF6",
              "width": 0.5
             },
             "pattern": {
              "fillmode": "overlay",
              "size": 10,
              "solidity": 0.2
             }
            },
            "type": "bar"
           }
          ],
          "barpolar": [
           {
            "marker": {
             "line": {
              "color": "#E5ECF6",
              "width": 0.5
             },
             "pattern": {
              "fillmode": "overlay",
              "size": 10,
              "solidity": 0.2
             }
            },
            "type": "barpolar"
           }
          ],
          "carpet": [
           {
            "aaxis": {
             "endlinecolor": "#2a3f5f",
             "gridcolor": "white",
             "linecolor": "white",
             "minorgridcolor": "white",
             "startlinecolor": "#2a3f5f"
            },
            "baxis": {
             "endlinecolor": "#2a3f5f",
             "gridcolor": "white",
             "linecolor": "white",
             "minorgridcolor": "white",
             "startlinecolor": "#2a3f5f"
            },
            "type": "carpet"
           }
          ],
          "choropleth": [
           {
            "colorbar": {
             "outlinewidth": 0,
             "ticks": ""
            },
            "type": "choropleth"
           }
          ],
          "contour": [
           {
            "colorbar": {
             "outlinewidth": 0,
             "ticks": ""
            },
            "colorscale": [
             [
              0,
              "#0d0887"
             ],
             [
              0.1111111111111111,
              "#46039f"
             ],
             [
              0.2222222222222222,
              "#7201a8"
             ],
             [
              0.3333333333333333,
              "#9c179e"
             ],
             [
              0.4444444444444444,
              "#bd3786"
             ],
             [
              0.5555555555555556,
              "#d8576b"
             ],
             [
              0.6666666666666666,
              "#ed7953"
             ],
             [
              0.7777777777777778,
              "#fb9f3a"
             ],
             [
              0.8888888888888888,
              "#fdca26"
             ],
             [
              1,
              "#f0f921"
             ]
            ],
            "type": "contour"
           }
          ],
          "contourcarpet": [
           {
            "colorbar": {
             "outlinewidth": 0,
             "ticks": ""
            },
            "type": "contourcarpet"
           }
          ],
          "heatmap": [
           {
            "colorbar": {
             "outlinewidth": 0,
             "ticks": ""
            },
            "colorscale": [
             [
              0,
              "#0d0887"
             ],
             [
              0.1111111111111111,
              "#46039f"
             ],
             [
              0.2222222222222222,
              "#7201a8"
             ],
             [
              0.3333333333333333,
              "#9c179e"
             ],
             [
              0.4444444444444444,
              "#bd3786"
             ],
             [
              0.5555555555555556,
              "#d8576b"
             ],
             [
              0.6666666666666666,
              "#ed7953"
             ],
             [
              0.7777777777777778,
              "#fb9f3a"
             ],
             [
              0.8888888888888888,
              "#fdca26"
             ],
             [
              1,
              "#f0f921"
             ]
            ],
            "type": "heatmap"
           }
          ],
          "heatmapgl": [
           {
            "colorbar": {
             "outlinewidth": 0,
             "ticks": ""
            },
            "colorscale": [
             [
              0,
              "#0d0887"
             ],
             [
              0.1111111111111111,
              "#46039f"
             ],
             [
              0.2222222222222222,
              "#7201a8"
             ],
             [
              0.3333333333333333,
              "#9c179e"
             ],
             [
              0.4444444444444444,
              "#bd3786"
             ],
             [
              0.5555555555555556,
              "#d8576b"
             ],
             [
              0.6666666666666666,
              "#ed7953"
             ],
             [
              0.7777777777777778,
              "#fb9f3a"
             ],
             [
              0.8888888888888888,
              "#fdca26"
             ],
             [
              1,
              "#f0f921"
             ]
            ],
            "type": "heatmapgl"
           }
          ],
          "histogram": [
           {
            "marker": {
             "pattern": {
              "fillmode": "overlay",
              "size": 10,
              "solidity": 0.2
             }
            },
            "type": "histogram"
           }
          ],
          "histogram2d": [
           {
            "colorbar": {
             "outlinewidth": 0,
             "ticks": ""
            },
            "colorscale": [
             [
              0,
              "#0d0887"
             ],
             [
              0.1111111111111111,
              "#46039f"
             ],
             [
              0.2222222222222222,
              "#7201a8"
             ],
             [
              0.3333333333333333,
              "#9c179e"
             ],
             [
              0.4444444444444444,
              "#bd3786"
             ],
             [
              0.5555555555555556,
              "#d8576b"
             ],
             [
              0.6666666666666666,
              "#ed7953"
             ],
             [
              0.7777777777777778,
              "#fb9f3a"
             ],
             [
              0.8888888888888888,
              "#fdca26"
             ],
             [
              1,
              "#f0f921"
             ]
            ],
            "type": "histogram2d"
           }
          ],
          "histogram2dcontour": [
           {
            "colorbar": {
             "outlinewidth": 0,
             "ticks": ""
            },
            "colorscale": [
             [
              0,
              "#0d0887"
             ],
             [
              0.1111111111111111,
              "#46039f"
             ],
             [
              0.2222222222222222,
              "#7201a8"
             ],
             [
              0.3333333333333333,
              "#9c179e"
             ],
             [
              0.4444444444444444,
              "#bd3786"
             ],
             [
              0.5555555555555556,
              "#d8576b"
             ],
             [
              0.6666666666666666,
              "#ed7953"
             ],
             [
              0.7777777777777778,
              "#fb9f3a"
             ],
             [
              0.8888888888888888,
              "#fdca26"
             ],
             [
              1,
              "#f0f921"
             ]
            ],
            "type": "histogram2dcontour"
           }
          ],
          "mesh3d": [
           {
            "colorbar": {
             "outlinewidth": 0,
             "ticks": ""
            },
            "type": "mesh3d"
           }
          ],
          "parcoords": [
           {
            "line": {
             "colorbar": {
              "outlinewidth": 0,
              "ticks": ""
             }
            },
            "type": "parcoords"
           }
          ],
          "pie": [
           {
            "automargin": true,
            "type": "pie"
           }
          ],
          "scatter": [
           {
            "fillpattern": {
             "fillmode": "overlay",
             "size": 10,
             "solidity": 0.2
            },
            "type": "scatter"
           }
          ],
          "scatter3d": [
           {
            "line": {
             "colorbar": {
              "outlinewidth": 0,
              "ticks": ""
             }
            },
            "marker": {
             "colorbar": {
              "outlinewidth": 0,
              "ticks": ""
             }
            },
            "type": "scatter3d"
           }
          ],
          "scattercarpet": [
           {
            "marker": {
             "colorbar": {
              "outlinewidth": 0,
              "ticks": ""
             }
            },
            "type": "scattercarpet"
           }
          ],
          "scattergeo": [
           {
            "marker": {
             "colorbar": {
              "outlinewidth": 0,
              "ticks": ""
             }
            },
            "type": "scattergeo"
           }
          ],
          "scattergl": [
           {
            "marker": {
             "colorbar": {
              "outlinewidth": 0,
              "ticks": ""
             }
            },
            "type": "scattergl"
           }
          ],
          "scattermapbox": [
           {
            "marker": {
             "colorbar": {
              "outlinewidth": 0,
              "ticks": ""
             }
            },
            "type": "scattermapbox"
           }
          ],
          "scatterpolar": [
           {
            "marker": {
             "colorbar": {
              "outlinewidth": 0,
              "ticks": ""
             }
            },
            "type": "scatterpolar"
           }
          ],
          "scatterpolargl": [
           {
            "marker": {
             "colorbar": {
              "outlinewidth": 0,
              "ticks": ""
             }
            },
            "type": "scatterpolargl"
           }
          ],
          "scatterternary": [
           {
            "marker": {
             "colorbar": {
              "outlinewidth": 0,
              "ticks": ""
             }
            },
            "type": "scatterternary"
           }
          ],
          "surface": [
           {
            "colorbar": {
             "outlinewidth": 0,
             "ticks": ""
            },
            "colorscale": [
             [
              0,
              "#0d0887"
             ],
             [
              0.1111111111111111,
              "#46039f"
             ],
             [
              0.2222222222222222,
              "#7201a8"
             ],
             [
              0.3333333333333333,
              "#9c179e"
             ],
             [
              0.4444444444444444,
              "#bd3786"
             ],
             [
              0.5555555555555556,
              "#d8576b"
             ],
             [
              0.6666666666666666,
              "#ed7953"
             ],
             [
              0.7777777777777778,
              "#fb9f3a"
             ],
             [
              0.8888888888888888,
              "#fdca26"
             ],
             [
              1,
              "#f0f921"
             ]
            ],
            "type": "surface"
           }
          ],
          "table": [
           {
            "cells": {
             "fill": {
              "color": "#EBF0F8"
             },
             "line": {
              "color": "white"
             }
            },
            "header": {
             "fill": {
              "color": "#C8D4E3"
             },
             "line": {
              "color": "white"
             }
            },
            "type": "table"
           }
          ]
         },
         "layout": {
          "annotationdefaults": {
           "arrowcolor": "#2a3f5f",
           "arrowhead": 0,
           "arrowwidth": 1
          },
          "autotypenumbers": "strict",
          "coloraxis": {
           "colorbar": {
            "outlinewidth": 0,
            "ticks": ""
           }
          },
          "colorscale": {
           "diverging": [
            [
             0,
             "#8e0152"
            ],
            [
             0.1,
             "#c51b7d"
            ],
            [
             0.2,
             "#de77ae"
            ],
            [
             0.3,
             "#f1b6da"
            ],
            [
             0.4,
             "#fde0ef"
            ],
            [
             0.5,
             "#f7f7f7"
            ],
            [
             0.6,
             "#e6f5d0"
            ],
            [
             0.7,
             "#b8e186"
            ],
            [
             0.8,
             "#7fbc41"
            ],
            [
             0.9,
             "#4d9221"
            ],
            [
             1,
             "#276419"
            ]
           ],
           "sequential": [
            [
             0,
             "#0d0887"
            ],
            [
             0.1111111111111111,
             "#46039f"
            ],
            [
             0.2222222222222222,
             "#7201a8"
            ],
            [
             0.3333333333333333,
             "#9c179e"
            ],
            [
             0.4444444444444444,
             "#bd3786"
            ],
            [
             0.5555555555555556,
             "#d8576b"
            ],
            [
             0.6666666666666666,
             "#ed7953"
            ],
            [
             0.7777777777777778,
             "#fb9f3a"
            ],
            [
             0.8888888888888888,
             "#fdca26"
            ],
            [
             1,
             "#f0f921"
            ]
           ],
           "sequentialminus": [
            [
             0,
             "#0d0887"
            ],
            [
             0.1111111111111111,
             "#46039f"
            ],
            [
             0.2222222222222222,
             "#7201a8"
            ],
            [
             0.3333333333333333,
             "#9c179e"
            ],
            [
             0.4444444444444444,
             "#bd3786"
            ],
            [
             0.5555555555555556,
             "#d8576b"
            ],
            [
             0.6666666666666666,
             "#ed7953"
            ],
            [
             0.7777777777777778,
             "#fb9f3a"
            ],
            [
             0.8888888888888888,
             "#fdca26"
            ],
            [
             1,
             "#f0f921"
            ]
           ]
          },
          "colorway": [
           "#636efa",
           "#EF553B",
           "#00cc96",
           "#ab63fa",
           "#FFA15A",
           "#19d3f3",
           "#FF6692",
           "#B6E880",
           "#FF97FF",
           "#FECB52"
          ],
          "font": {
           "color": "#2a3f5f"
          },
          "geo": {
           "bgcolor": "white",
           "lakecolor": "white",
           "landcolor": "#E5ECF6",
           "showlakes": true,
           "showland": true,
           "subunitcolor": "white"
          },
          "hoverlabel": {
           "align": "left"
          },
          "hovermode": "closest",
          "mapbox": {
           "style": "light"
          },
          "paper_bgcolor": "white",
          "plot_bgcolor": "#E5ECF6",
          "polar": {
           "angularaxis": {
            "gridcolor": "white",
            "linecolor": "white",
            "ticks": ""
           },
           "bgcolor": "#E5ECF6",
           "radialaxis": {
            "gridcolor": "white",
            "linecolor": "white",
            "ticks": ""
           }
          },
          "scene": {
           "xaxis": {
            "backgroundcolor": "#E5ECF6",
            "gridcolor": "white",
            "gridwidth": 2,
            "linecolor": "white",
            "showbackground": true,
            "ticks": "",
            "zerolinecolor": "white"
           },
           "yaxis": {
            "backgroundcolor": "#E5ECF6",
            "gridcolor": "white",
            "gridwidth": 2,
            "linecolor": "white",
            "showbackground": true,
            "ticks": "",
            "zerolinecolor": "white"
           },
           "zaxis": {
            "backgroundcolor": "#E5ECF6",
            "gridcolor": "white",
            "gridwidth": 2,
            "linecolor": "white",
            "showbackground": true,
            "ticks": "",
            "zerolinecolor": "white"
           }
          },
          "shapedefaults": {
           "line": {
            "color": "#2a3f5f"
           }
          },
          "ternary": {
           "aaxis": {
            "gridcolor": "white",
            "linecolor": "white",
            "ticks": ""
           },
           "baxis": {
            "gridcolor": "white",
            "linecolor": "white",
            "ticks": ""
           },
           "bgcolor": "#E5ECF6",
           "caxis": {
            "gridcolor": "white",
            "linecolor": "white",
            "ticks": ""
           }
          },
          "title": {
           "x": 0.05
          },
          "xaxis": {
           "automargin": true,
           "gridcolor": "white",
           "linecolor": "white",
           "ticks": "",
           "title": {
            "standoff": 15
           },
           "zerolinecolor": "white",
           "zerolinewidth": 2
          },
          "yaxis": {
           "automargin": true,
           "gridcolor": "white",
           "linecolor": "white",
           "ticks": "",
           "title": {
            "standoff": 15
           },
           "zerolinecolor": "white",
           "zerolinewidth": 2
          }
         }
        }
       }
      }
     },
     "metadata": {},
     "output_type": "display_data"
    }
   ],
   "source": [
    "df = projects\n",
    "df.loc[:, \"Budget\"] ='$'+ df[\"Budget\"].map('{:,.0f}'.format)\n",
    "#df.loc[:, \"EndDate\"] = pd.to_datetime(df[\"EndDate\"].dt.strftime('%Y-%m'))\n",
    "df['EndDate'] = df['EndDate'].dt.strftime('%d-%m-%Y')\n",
    "\n",
    "fig = go.Figure(data=[go.Table(\n",
    "    header=dict(values=['Name', 'Title', 'End Date', 'PMU', 'Donor', 'Budget', 'Budget Currency', 'Countries'],\n",
    "                fill_color='paleturquoise',\n",
    "                align='left'),\n",
    "    cells=dict(values=[df.Name, df.Title, df.EndDate, df.PMU, df.Donor, df.Budget, df.BudgetCurrency, df. Countries],\n",
    "               fill_color='lavender',\n",
    "               align='left'))\n",
    "])\n",
    "fig.write_html(\"projects.html\")\n",
    "fig.show()"
   ]
  },
  {
   "cell_type": "code",
   "execution_count": 173,
   "id": "130d73bd-6e21-450e-9206-a6e3f834ffb1",
   "metadata": {},
   "outputs": [],
   "source": [
    "df = pd.read_excel(\"workplan.xlsx\")"
   ]
  },
  {
   "cell_type": "code",
   "execution_count": 174,
   "id": "0d98c368-a17f-4361-837a-692f0c5de385",
   "metadata": {},
   "outputs": [
    {
     "data": {
      "application/vnd.plotly.v1+json": {
       "config": {
        "plotlyServerURL": "https://plot.ly"
       },
       "data": [
        {
         "alignmentgroup": "True",
         "base": [
          "2023-12-01T00:00:00",
          "2023-11-01T00:00:00",
          "2024-01-01T00:00:00",
          "2024-12-01T00:00:00",
          "2024-09-01T00:00:00",
          "2024-02-01T00:00:00",
          "2024-01-01T00:00:00",
          "2024-01-22T00:00:00",
          "2024-02-19T00:00:00"
         ],
         "hovertemplate": "Project=DEP<br>Start=%{base}<br>Finish=%{x}<br>Task=%{y}<extra></extra>",
         "legendgroup": "DEP",
         "marker": {
          "color": "#636efa",
          "pattern": {
           "shape": ""
          }
         },
         "name": "DEP",
         "offsetgroup": "DEP",
         "orientation": "h",
         "showlegend": true,
         "textposition": "auto",
         "type": "bar",
         "x": [
          13046400000,
          18230400000,
          5011200000,
          -26438400000,
          7776000000,
          7689600000,
          5011200000,
          345600000,
          345600000
         ],
         "xaxis": "x",
         "y": [
          "AgroCensus and Crop Yield Detection + Workshop (VU)",
          "Coastlines Enhancement and Cleanup",
          "DEP Production Cloud Infrastructure, Documentation and Cleanup",
          "Regional GeoMedian S2/LS",
          "Regional LULC Methodlogy and Classification (S2)",
          "DEP Data Exposure and Dissemination Pipeline",
          "Finalise dep-tools, Production Creation Pipelines and Workflows",
          "Fiji LandCover Mapping Workshop (Training Data Collect Earth)",
          "Fiji LandCover Mapping Workshop (DEP)"
         ],
         "yaxis": "y"
        },
        {
         "alignmentgroup": "True",
         "base": [
          "2024-02-01T00:00:00",
          "2024-06-01T00:00:00"
         ],
         "hovertemplate": "Project=SDB<br>Start=%{base}<br>Finish=%{x}<br>Task=%{y}<extra></extra>",
         "legendgroup": "SDB",
         "marker": {
          "color": "#EF553B",
          "pattern": {
           "shape": ""
          }
         },
         "name": "SDB",
         "offsetgroup": "SDB",
         "orientation": "h",
         "showlegend": true,
         "textposition": "auto",
         "type": "bar",
         "x": [
          12960000000,
          18316800000
         ],
         "xaxis": "x",
         "y": [
          "Regional Near-Coastal Satellite Derived Bathymetry using S1/S2",
          "Satellite Derived Bathymetry Validation in 4 Countries"
         ],
         "yaxis": "y"
        },
        {
         "alignmentgroup": "True",
         "base": [
          "2024-05-30T00:00:00",
          "2024-07-01T00:00:00"
         ],
         "hovertemplate": "Project=CMSP<br>Start=%{base}<br>Finish=%{x}<br>Task=%{y}<extra></extra>",
         "legendgroup": "CMSP",
         "marker": {
          "color": "#00cc96",
          "pattern": {
           "shape": ""
          }
         },
         "name": "CMSP",
         "offsetgroup": "CMSP",
         "orientation": "h",
         "showlegend": true,
         "textposition": "auto",
         "type": "bar",
         "x": [
          17193600000,
          15724800000
         ],
         "xaxis": "x",
         "y": [
          "Coastlines Rates of Change and Coastal Erosion",
          "Marine Habitat Mapping"
         ],
         "yaxis": "y"
        },
        {
         "alignmentgroup": "True",
         "base": [
          "2024-01-01T00:00:00",
          "2024-03-01T00:00:00"
         ],
         "hovertemplate": "Project=MACBLUE<br>Start=%{base}<br>Finish=%{x}<br>Task=%{y}<extra></extra>",
         "legendgroup": "MACBLUE",
         "marker": {
          "color": "#ab63fa",
          "pattern": {
           "shape": ""
          }
         },
         "name": "MACBLUE",
         "offsetgroup": "MACBLUE",
         "orientation": "h",
         "showlegend": true,
         "textposition": "auto",
         "type": "bar",
         "x": [
          7689600000,
          15724800000
         ],
         "xaxis": "x",
         "y": [
          "Mangroves Enhancement using CoastTrain ML Data with MVI/MFI",
          "Seagrass Detection (FJ, VU, PNG, SB)"
         ],
         "yaxis": "y"
        },
        {
         "alignmentgroup": "True",
         "base": [
          "2023-11-01T00:00:00"
         ],
         "hovertemplate": "Project=PCRAFI<br>Start=%{base}<br>Finish=%{x}<br>Task=%{y}<extra></extra>",
         "legendgroup": "PCRAFI",
         "marker": {
          "color": "#FFA15A",
          "pattern": {
           "shape": ""
          }
         },
         "name": "PCRAFI",
         "offsetgroup": "PCRAFI",
         "orientation": "h",
         "showlegend": true,
         "textposition": "auto",
         "type": "bar",
         "x": [
          5097600000
         ],
         "xaxis": "x",
         "y": [
          "PacRIS Migration"
         ],
         "yaxis": "y"
        },
        {
         "alignmentgroup": "True",
         "base": [
          "2024-05-01T00:00:00"
         ],
         "hovertemplate": "Project=INV<br>Start=%{base}<br>Finish=%{x}<br>Task=%{y}<extra></extra>",
         "legendgroup": "INV",
         "marker": {
          "color": "#19d3f3",
          "pattern": {
           "shape": ""
          }
         },
         "name": "INV",
         "offsetgroup": "INV",
         "orientation": "h",
         "showlegend": true,
         "textposition": "auto",
         "type": "bar",
         "x": [
          7776000000
         ],
         "xaxis": "x",
         "y": [
          "LULC and Invasive Species Detection in Identified Areas (FJ, TO)"
         ],
         "yaxis": "y"
        },
        {
         "alignmentgroup": "True",
         "base": [
          "2023-12-01T00:00:00",
          "2023-11-01T00:00:00",
          "2024-02-01T00:00:00",
          "2024-05-01T00:00:00"
         ],
         "hovertemplate": "Project=ENVEXP<br>Start=%{base}<br>Finish=%{x}<br>Task=%{y}<extra></extra>",
         "legendgroup": "ENVEXP",
         "marker": {
          "color": "#FF6692",
          "pattern": {
           "shape": ""
          }
         },
         "name": "ENVEXP",
         "offsetgroup": "ENVEXP",
         "orientation": "h",
         "showlegend": true,
         "textposition": "auto",
         "type": "bar",
         "x": [
          10368000000,
          12960000000,
          12960000000,
          20995200000
         ],
         "xaxis": "x",
         "y": [
          "Nexus Upgrade and Back-end Enhancements",
          "Nexus Metadata Enhancements",
          "Add ENVEXP datasets from NIWA and beyond to Nexus",
          "Develop map viewer for ENVEXP data"
         ],
         "yaxis": "y"
        },
        {
         "alignmentgroup": "True",
         "base": [
          "2024-03-01T00:00:00",
          "2024-06-01T00:00:00",
          "2024-08-01T00:00:00",
          "2024-01-01T00:00:00"
         ],
         "hovertemplate": "Project=PARTNER2<br>Start=%{base}<br>Finish=%{x}<br>Task=%{y}<extra></extra>",
         "legendgroup": "PARTNER2",
         "marker": {
          "color": "#B6E880",
          "pattern": {
           "shape": ""
          }
         },
         "name": "PARTNER2",
         "offsetgroup": "PARTNER2",
         "orientation": "h",
         "showlegend": true,
         "textposition": "auto",
         "type": "bar",
         "x": [
          5184000000,
          5184000000,
          7862400000,
          5097600000
         ],
         "xaxis": "x",
         "y": [
          "Nexus country workshop (Tonga and Vanuatu)",
          "Nexus country workshop (Samoa and Cook Islands)",
          "Nexus country workshop (Tuvalu and RMI)",
          "Link Riskscape and Nexus (incl. workshop in Wellington, NZ)"
         ],
         "yaxis": "y"
        }
       ],
       "layout": {
        "barmode": "overlay",
        "legend": {
         "title": {
          "text": "Project"
         },
         "tracegroupgap": 0
        },
        "margin": {
         "t": 60
        },
        "template": {
         "data": {
          "bar": [
           {
            "error_x": {
             "color": "#2a3f5f"
            },
            "error_y": {
             "color": "#2a3f5f"
            },
            "marker": {
             "line": {
              "color": "#E5ECF6",
              "width": 0.5
             },
             "pattern": {
              "fillmode": "overlay",
              "size": 10,
              "solidity": 0.2
             }
            },
            "type": "bar"
           }
          ],
          "barpolar": [
           {
            "marker": {
             "line": {
              "color": "#E5ECF6",
              "width": 0.5
             },
             "pattern": {
              "fillmode": "overlay",
              "size": 10,
              "solidity": 0.2
             }
            },
            "type": "barpolar"
           }
          ],
          "carpet": [
           {
            "aaxis": {
             "endlinecolor": "#2a3f5f",
             "gridcolor": "white",
             "linecolor": "white",
             "minorgridcolor": "white",
             "startlinecolor": "#2a3f5f"
            },
            "baxis": {
             "endlinecolor": "#2a3f5f",
             "gridcolor": "white",
             "linecolor": "white",
             "minorgridcolor": "white",
             "startlinecolor": "#2a3f5f"
            },
            "type": "carpet"
           }
          ],
          "choropleth": [
           {
            "colorbar": {
             "outlinewidth": 0,
             "ticks": ""
            },
            "type": "choropleth"
           }
          ],
          "contour": [
           {
            "colorbar": {
             "outlinewidth": 0,
             "ticks": ""
            },
            "colorscale": [
             [
              0,
              "#0d0887"
             ],
             [
              0.1111111111111111,
              "#46039f"
             ],
             [
              0.2222222222222222,
              "#7201a8"
             ],
             [
              0.3333333333333333,
              "#9c179e"
             ],
             [
              0.4444444444444444,
              "#bd3786"
             ],
             [
              0.5555555555555556,
              "#d8576b"
             ],
             [
              0.6666666666666666,
              "#ed7953"
             ],
             [
              0.7777777777777778,
              "#fb9f3a"
             ],
             [
              0.8888888888888888,
              "#fdca26"
             ],
             [
              1,
              "#f0f921"
             ]
            ],
            "type": "contour"
           }
          ],
          "contourcarpet": [
           {
            "colorbar": {
             "outlinewidth": 0,
             "ticks": ""
            },
            "type": "contourcarpet"
           }
          ],
          "heatmap": [
           {
            "colorbar": {
             "outlinewidth": 0,
             "ticks": ""
            },
            "colorscale": [
             [
              0,
              "#0d0887"
             ],
             [
              0.1111111111111111,
              "#46039f"
             ],
             [
              0.2222222222222222,
              "#7201a8"
             ],
             [
              0.3333333333333333,
              "#9c179e"
             ],
             [
              0.4444444444444444,
              "#bd3786"
             ],
             [
              0.5555555555555556,
              "#d8576b"
             ],
             [
              0.6666666666666666,
              "#ed7953"
             ],
             [
              0.7777777777777778,
              "#fb9f3a"
             ],
             [
              0.8888888888888888,
              "#fdca26"
             ],
             [
              1,
              "#f0f921"
             ]
            ],
            "type": "heatmap"
           }
          ],
          "heatmapgl": [
           {
            "colorbar": {
             "outlinewidth": 0,
             "ticks": ""
            },
            "colorscale": [
             [
              0,
              "#0d0887"
             ],
             [
              0.1111111111111111,
              "#46039f"
             ],
             [
              0.2222222222222222,
              "#7201a8"
             ],
             [
              0.3333333333333333,
              "#9c179e"
             ],
             [
              0.4444444444444444,
              "#bd3786"
             ],
             [
              0.5555555555555556,
              "#d8576b"
             ],
             [
              0.6666666666666666,
              "#ed7953"
             ],
             [
              0.7777777777777778,
              "#fb9f3a"
             ],
             [
              0.8888888888888888,
              "#fdca26"
             ],
             [
              1,
              "#f0f921"
             ]
            ],
            "type": "heatmapgl"
           }
          ],
          "histogram": [
           {
            "marker": {
             "pattern": {
              "fillmode": "overlay",
              "size": 10,
              "solidity": 0.2
             }
            },
            "type": "histogram"
           }
          ],
          "histogram2d": [
           {
            "colorbar": {
             "outlinewidth": 0,
             "ticks": ""
            },
            "colorscale": [
             [
              0,
              "#0d0887"
             ],
             [
              0.1111111111111111,
              "#46039f"
             ],
             [
              0.2222222222222222,
              "#7201a8"
             ],
             [
              0.3333333333333333,
              "#9c179e"
             ],
             [
              0.4444444444444444,
              "#bd3786"
             ],
             [
              0.5555555555555556,
              "#d8576b"
             ],
             [
              0.6666666666666666,
              "#ed7953"
             ],
             [
              0.7777777777777778,
              "#fb9f3a"
             ],
             [
              0.8888888888888888,
              "#fdca26"
             ],
             [
              1,
              "#f0f921"
             ]
            ],
            "type": "histogram2d"
           }
          ],
          "histogram2dcontour": [
           {
            "colorbar": {
             "outlinewidth": 0,
             "ticks": ""
            },
            "colorscale": [
             [
              0,
              "#0d0887"
             ],
             [
              0.1111111111111111,
              "#46039f"
             ],
             [
              0.2222222222222222,
              "#7201a8"
             ],
             [
              0.3333333333333333,
              "#9c179e"
             ],
             [
              0.4444444444444444,
              "#bd3786"
             ],
             [
              0.5555555555555556,
              "#d8576b"
             ],
             [
              0.6666666666666666,
              "#ed7953"
             ],
             [
              0.7777777777777778,
              "#fb9f3a"
             ],
             [
              0.8888888888888888,
              "#fdca26"
             ],
             [
              1,
              "#f0f921"
             ]
            ],
            "type": "histogram2dcontour"
           }
          ],
          "mesh3d": [
           {
            "colorbar": {
             "outlinewidth": 0,
             "ticks": ""
            },
            "type": "mesh3d"
           }
          ],
          "parcoords": [
           {
            "line": {
             "colorbar": {
              "outlinewidth": 0,
              "ticks": ""
             }
            },
            "type": "parcoords"
           }
          ],
          "pie": [
           {
            "automargin": true,
            "type": "pie"
           }
          ],
          "scatter": [
           {
            "fillpattern": {
             "fillmode": "overlay",
             "size": 10,
             "solidity": 0.2
            },
            "type": "scatter"
           }
          ],
          "scatter3d": [
           {
            "line": {
             "colorbar": {
              "outlinewidth": 0,
              "ticks": ""
             }
            },
            "marker": {
             "colorbar": {
              "outlinewidth": 0,
              "ticks": ""
             }
            },
            "type": "scatter3d"
           }
          ],
          "scattercarpet": [
           {
            "marker": {
             "colorbar": {
              "outlinewidth": 0,
              "ticks": ""
             }
            },
            "type": "scattercarpet"
           }
          ],
          "scattergeo": [
           {
            "marker": {
             "colorbar": {
              "outlinewidth": 0,
              "ticks": ""
             }
            },
            "type": "scattergeo"
           }
          ],
          "scattergl": [
           {
            "marker": {
             "colorbar": {
              "outlinewidth": 0,
              "ticks": ""
             }
            },
            "type": "scattergl"
           }
          ],
          "scattermapbox": [
           {
            "marker": {
             "colorbar": {
              "outlinewidth": 0,
              "ticks": ""
             }
            },
            "type": "scattermapbox"
           }
          ],
          "scatterpolar": [
           {
            "marker": {
             "colorbar": {
              "outlinewidth": 0,
              "ticks": ""
             }
            },
            "type": "scatterpolar"
           }
          ],
          "scatterpolargl": [
           {
            "marker": {
             "colorbar": {
              "outlinewidth": 0,
              "ticks": ""
             }
            },
            "type": "scatterpolargl"
           }
          ],
          "scatterternary": [
           {
            "marker": {
             "colorbar": {
              "outlinewidth": 0,
              "ticks": ""
             }
            },
            "type": "scatterternary"
           }
          ],
          "surface": [
           {
            "colorbar": {
             "outlinewidth": 0,
             "ticks": ""
            },
            "colorscale": [
             [
              0,
              "#0d0887"
             ],
             [
              0.1111111111111111,
              "#46039f"
             ],
             [
              0.2222222222222222,
              "#7201a8"
             ],
             [
              0.3333333333333333,
              "#9c179e"
             ],
             [
              0.4444444444444444,
              "#bd3786"
             ],
             [
              0.5555555555555556,
              "#d8576b"
             ],
             [
              0.6666666666666666,
              "#ed7953"
             ],
             [
              0.7777777777777778,
              "#fb9f3a"
             ],
             [
              0.8888888888888888,
              "#fdca26"
             ],
             [
              1,
              "#f0f921"
             ]
            ],
            "type": "surface"
           }
          ],
          "table": [
           {
            "cells": {
             "fill": {
              "color": "#EBF0F8"
             },
             "line": {
              "color": "white"
             }
            },
            "header": {
             "fill": {
              "color": "#C8D4E3"
             },
             "line": {
              "color": "white"
             }
            },
            "type": "table"
           }
          ]
         },
         "layout": {
          "annotationdefaults": {
           "arrowcolor": "#2a3f5f",
           "arrowhead": 0,
           "arrowwidth": 1
          },
          "autotypenumbers": "strict",
          "coloraxis": {
           "colorbar": {
            "outlinewidth": 0,
            "ticks": ""
           }
          },
          "colorscale": {
           "diverging": [
            [
             0,
             "#8e0152"
            ],
            [
             0.1,
             "#c51b7d"
            ],
            [
             0.2,
             "#de77ae"
            ],
            [
             0.3,
             "#f1b6da"
            ],
            [
             0.4,
             "#fde0ef"
            ],
            [
             0.5,
             "#f7f7f7"
            ],
            [
             0.6,
             "#e6f5d0"
            ],
            [
             0.7,
             "#b8e186"
            ],
            [
             0.8,
             "#7fbc41"
            ],
            [
             0.9,
             "#4d9221"
            ],
            [
             1,
             "#276419"
            ]
           ],
           "sequential": [
            [
             0,
             "#0d0887"
            ],
            [
             0.1111111111111111,
             "#46039f"
            ],
            [
             0.2222222222222222,
             "#7201a8"
            ],
            [
             0.3333333333333333,
             "#9c179e"
            ],
            [
             0.4444444444444444,
             "#bd3786"
            ],
            [
             0.5555555555555556,
             "#d8576b"
            ],
            [
             0.6666666666666666,
             "#ed7953"
            ],
            [
             0.7777777777777778,
             "#fb9f3a"
            ],
            [
             0.8888888888888888,
             "#fdca26"
            ],
            [
             1,
             "#f0f921"
            ]
           ],
           "sequentialminus": [
            [
             0,
             "#0d0887"
            ],
            [
             0.1111111111111111,
             "#46039f"
            ],
            [
             0.2222222222222222,
             "#7201a8"
            ],
            [
             0.3333333333333333,
             "#9c179e"
            ],
            [
             0.4444444444444444,
             "#bd3786"
            ],
            [
             0.5555555555555556,
             "#d8576b"
            ],
            [
             0.6666666666666666,
             "#ed7953"
            ],
            [
             0.7777777777777778,
             "#fb9f3a"
            ],
            [
             0.8888888888888888,
             "#fdca26"
            ],
            [
             1,
             "#f0f921"
            ]
           ]
          },
          "colorway": [
           "#636efa",
           "#EF553B",
           "#00cc96",
           "#ab63fa",
           "#FFA15A",
           "#19d3f3",
           "#FF6692",
           "#B6E880",
           "#FF97FF",
           "#FECB52"
          ],
          "font": {
           "color": "#2a3f5f"
          },
          "geo": {
           "bgcolor": "white",
           "lakecolor": "white",
           "landcolor": "#E5ECF6",
           "showlakes": true,
           "showland": true,
           "subunitcolor": "white"
          },
          "hoverlabel": {
           "align": "left"
          },
          "hovermode": "closest",
          "mapbox": {
           "style": "light"
          },
          "paper_bgcolor": "white",
          "plot_bgcolor": "#E5ECF6",
          "polar": {
           "angularaxis": {
            "gridcolor": "white",
            "linecolor": "white",
            "ticks": ""
           },
           "bgcolor": "#E5ECF6",
           "radialaxis": {
            "gridcolor": "white",
            "linecolor": "white",
            "ticks": ""
           }
          },
          "scene": {
           "xaxis": {
            "backgroundcolor": "#E5ECF6",
            "gridcolor": "white",
            "gridwidth": 2,
            "linecolor": "white",
            "showbackground": true,
            "ticks": "",
            "zerolinecolor": "white"
           },
           "yaxis": {
            "backgroundcolor": "#E5ECF6",
            "gridcolor": "white",
            "gridwidth": 2,
            "linecolor": "white",
            "showbackground": true,
            "ticks": "",
            "zerolinecolor": "white"
           },
           "zaxis": {
            "backgroundcolor": "#E5ECF6",
            "gridcolor": "white",
            "gridwidth": 2,
            "linecolor": "white",
            "showbackground": true,
            "ticks": "",
            "zerolinecolor": "white"
           }
          },
          "shapedefaults": {
           "line": {
            "color": "#2a3f5f"
           }
          },
          "ternary": {
           "aaxis": {
            "gridcolor": "white",
            "linecolor": "white",
            "ticks": ""
           },
           "baxis": {
            "gridcolor": "white",
            "linecolor": "white",
            "ticks": ""
           },
           "bgcolor": "#E5ECF6",
           "caxis": {
            "gridcolor": "white",
            "linecolor": "white",
            "ticks": ""
           }
          },
          "title": {
           "x": 0.05
          },
          "xaxis": {
           "automargin": true,
           "gridcolor": "white",
           "linecolor": "white",
           "ticks": "",
           "title": {
            "standoff": 15
           },
           "zerolinecolor": "white",
           "zerolinewidth": 2
          },
          "yaxis": {
           "automargin": true,
           "gridcolor": "white",
           "linecolor": "white",
           "ticks": "",
           "title": {
            "standoff": 15
           },
           "zerolinecolor": "white",
           "zerolinewidth": 2
          }
         }
        },
        "xaxis": {
         "anchor": "y",
         "domain": [
          0,
          1
         ],
         "type": "date"
        },
        "yaxis": {
         "anchor": "x",
         "autorange": "reversed",
         "domain": [
          0,
          1
         ],
         "title": {
          "text": "Task"
         }
        }
       }
      }
     },
     "metadata": {},
     "output_type": "display_data"
    }
   ],
   "source": [
    "fig = px.timeline(df, x_start=\"Start\", x_end=\"Finish\", y=\"Task\", color=\"Project\")\n",
    "fig.update_yaxes(autorange=\"reversed\")\n",
    "fig.show()"
   ]
  },
  {
   "cell_type": "code",
   "execution_count": 175,
   "id": "2b225a09-b06c-4d50-9450-41211d7df5ee",
   "metadata": {},
   "outputs": [],
   "source": [
    "fig.write_html(\"workplan.html\")"
   ]
  },
  {
   "cell_type": "code",
   "execution_count": 176,
   "id": "368b8fd6-b6dd-444a-baad-0ab96160bda1",
   "metadata": {},
   "outputs": [
    {
     "name": "stdout",
     "output_type": "stream",
     "text": [
      "<table border=\"1\" class=\"dataframe\">\n",
      "  <thead>\n",
      "    <tr style=\"text-align: right;\">\n",
      "      <th></th>\n",
      "      <th>Name</th>\n",
      "      <th>Title</th>\n",
      "      <th>EndDate</th>\n",
      "      <th>Budget</th>\n",
      "      <th>BudgetCurrency</th>\n",
      "      <th>BudgetCode</th>\n",
      "      <th>PMU</th>\n",
      "      <th>Donor</th>\n",
      "      <th>Countries</th>\n",
      "    </tr>\n",
      "  </thead>\n",
      "  <tbody>\n",
      "    <tr>\n",
      "      <th>0</th>\n",
      "      <td>DEP</td>\n",
      "      <td>Digital Earth Pacific – Climate Change Flagship</td>\n",
      "      <td>03-06-2025</td>\n",
      "      <td>$2,000,000</td>\n",
      "      <td>NZD</td>\n",
      "      <td>J00422</td>\n",
      "      <td>CCES</td>\n",
      "      <td>NZ/MFAT</td>\n",
      "      <td>PICT</td>\n",
      "    </tr>\n",
      "    <tr>\n",
      "      <th>1</th>\n",
      "      <td>SDB</td>\n",
      "      <td>Satellite Derived Bathymetry</td>\n",
      "      <td>31-12-2024</td>\n",
      "      <td>$355,000</td>\n",
      "      <td>USD</td>\n",
      "      <td>NaN</td>\n",
      "      <td>GEP</td>\n",
      "      <td>McGovern Foundation</td>\n",
      "      <td>PICT</td>\n",
      "    </tr>\n",
      "    <tr>\n",
      "      <th>2</th>\n",
      "      <td>CMSP</td>\n",
      "      <td>Development of Decision Ready Tools to Support Coastal and Marine Spatial Planning</td>\n",
      "      <td>07-12-2024</td>\n",
      "      <td>$700,000</td>\n",
      "      <td>USD</td>\n",
      "      <td>J00363</td>\n",
      "      <td>GEP</td>\n",
      "      <td>PIFS/KIOST</td>\n",
      "      <td>PICT</td>\n",
      "    </tr>\n",
      "    <tr>\n",
      "      <th>3</th>\n",
      "      <td>MACBLUE</td>\n",
      "      <td>Management and Conservation of Blue Carbon Ecosytems in Pacific Island Countries</td>\n",
      "      <td>30-06-2025</td>\n",
      "      <td>$700,000</td>\n",
      "      <td>USD</td>\n",
      "      <td>J00454</td>\n",
      "      <td>GEP</td>\n",
      "      <td>GIZ</td>\n",
      "      <td>FJ, PNG, VU, SB</td>\n",
      "    </tr>\n",
      "    <tr>\n",
      "      <th>4</th>\n",
      "      <td>ENVEXP</td>\n",
      "      <td>Environmental Exposure Assessment for Water-Related Emergencies</td>\n",
      "      <td>31-12-2024</td>\n",
      "      <td>$436,370</td>\n",
      "      <td>NZD</td>\n",
      "      <td>J00370</td>\n",
      "      <td>PDH</td>\n",
      "      <td>NZ/MFAT</td>\n",
      "      <td>KI, PICT</td>\n",
      "    </tr>\n",
      "    <tr>\n",
      "      <th>5</th>\n",
      "      <td>PCRAFI</td>\n",
      "      <td>Pacific Risk Information System</td>\n",
      "      <td>30-06-2024</td>\n",
      "      <td>$0</td>\n",
      "      <td>USD</td>\n",
      "      <td>J00139</td>\n",
      "      <td>DCRP</td>\n",
      "      <td>World Bank</td>\n",
      "      <td>TO, VU, SB, WS, CK</td>\n",
      "    </tr>\n",
      "    <tr>\n",
      "      <th>6</th>\n",
      "      <td>INV</td>\n",
      "      <td>LRD Funding with Intent – Forest Management Model and Invasive Species Detection</td>\n",
      "      <td>31-12-2024</td>\n",
      "      <td>$109,000</td>\n",
      "      <td>NZD</td>\n",
      "      <td>NaN</td>\n",
      "      <td>LRD</td>\n",
      "      <td>NZ/MFAT</td>\n",
      "      <td>FJ, TO</td>\n",
      "    </tr>\n",
      "    <tr>\n",
      "      <th>7</th>\n",
      "      <td>PARTNER2</td>\n",
      "      <td>Hazard Risk Analysis</td>\n",
      "      <td>30-06-2024</td>\n",
      "      <td>$2,822,202</td>\n",
      "      <td>NZD</td>\n",
      "      <td>J00319</td>\n",
      "      <td>DCRP</td>\n",
      "      <td>NZ/MFAT</td>\n",
      "      <td>TO, VU, SB, WS, CK, MH</td>\n",
      "    </tr>\n",
      "    <tr>\n",
      "      <th>8</th>\n",
      "      <td>IRIS</td>\n",
      "      <td>Infrastructure Resilience Geospatial Databases to support Exposure and Hazard modelling</td>\n",
      "      <td>28-09-2025</td>\n",
      "      <td>$750,000</td>\n",
      "      <td>USD</td>\n",
      "      <td>NaN</td>\n",
      "      <td>DCRP</td>\n",
      "      <td>CDRI/RAF</td>\n",
      "      <td>KI, TO, VU</td>\n",
      "    </tr>\n",
      "  </tbody>\n",
      "</table>\n"
     ]
    }
   ],
   "source": [
    "print(projects.to_html())"
   ]
  },
  {
   "cell_type": "code",
   "execution_count": null,
   "id": "b4d7c101-2630-424e-8f96-cfa8de1a06fa",
   "metadata": {},
   "outputs": [],
   "source": []
  }
 ],
 "metadata": {
  "kernelspec": {
   "display_name": "Python 3 (ipykernel)",
   "language": "python",
   "name": "python3"
  },
  "language_info": {
   "codemirror_mode": {
    "name": "ipython",
    "version": 3
   },
   "file_extension": ".py",
   "mimetype": "text/x-python",
   "name": "python",
   "nbconvert_exporter": "python",
   "pygments_lexer": "ipython3",
   "version": "3.12.0"
  }
 },
 "nbformat": 4,
 "nbformat_minor": 5
}
